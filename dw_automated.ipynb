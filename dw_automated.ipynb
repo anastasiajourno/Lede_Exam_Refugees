{
 "cells": [
  {
   "cell_type": "code",
   "execution_count": 1,
   "metadata": {},
   "outputs": [
    {
     "name": "stdout",
     "output_type": "stream",
     "text": [
      "Collecting datawrapper\n",
      "  Downloading datawrapper-0.4.6-py3-none-any.whl (12 kB)\n",
      "Collecting ipython<8.0.0,>=7.22.0\n",
      "  Downloading ipython-7.30.1-py3-none-any.whl (791 kB)\n",
      "\u001b[K     |████████████████████████████████| 791 kB 2.4 MB/s eta 0:00:01\n",
      "\u001b[?25hCollecting pandas<2.0.0,>=1.2.3\n",
      "  Downloading pandas-1.3.5-cp38-cp38-macosx_10_9_x86_64.whl (11.2 MB)\n",
      "\u001b[K     |████████████████████████████████| 11.2 MB 2.3 MB/s eta 0:00:01\n",
      "\u001b[?25hCollecting requests<3.0.0,>=2.25.1\n",
      "  Downloading requests-2.26.0-py2.py3-none-any.whl (62 kB)\n",
      "\u001b[K     |████████████████████████████████| 62 kB 1.6 MB/s eta 0:00:01\n",
      "\u001b[?25hRequirement already satisfied: rich<11.0.0,>=9.8.2 in /opt/anaconda3/lib/python3.8/site-packages (from datawrapper) (10.7.0)\n",
      "Requirement already satisfied: setuptools>=18.5 in /opt/anaconda3/lib/python3.8/site-packages (from ipython<8.0.0,>=7.22.0->datawrapper) (49.2.0.post20200714)\n",
      "Requirement already satisfied: decorator in /opt/anaconda3/lib/python3.8/site-packages (from ipython<8.0.0,>=7.22.0->datawrapper) (4.4.2)\n",
      "Requirement already satisfied: traitlets>=4.2 in /opt/anaconda3/lib/python3.8/site-packages (from ipython<8.0.0,>=7.22.0->datawrapper) (4.3.3)\n",
      "Requirement already satisfied: jedi>=0.16 in /opt/anaconda3/lib/python3.8/site-packages (from ipython<8.0.0,>=7.22.0->datawrapper) (0.17.1)\n",
      "Requirement already satisfied: appnope; sys_platform == \"darwin\" in /opt/anaconda3/lib/python3.8/site-packages (from ipython<8.0.0,>=7.22.0->datawrapper) (0.1.0)\n",
      "Requirement already satisfied: prompt-toolkit!=3.0.0,!=3.0.1,<3.1.0,>=2.0.0 in /opt/anaconda3/lib/python3.8/site-packages (from ipython<8.0.0,>=7.22.0->datawrapper) (3.0.5)\n",
      "Collecting matplotlib-inline\n",
      "  Downloading matplotlib_inline-0.1.3-py3-none-any.whl (8.2 kB)\n",
      "Requirement already satisfied: pexpect>4.3; sys_platform != \"win32\" in /opt/anaconda3/lib/python3.8/site-packages (from ipython<8.0.0,>=7.22.0->datawrapper) (4.8.0)\n",
      "Requirement already satisfied: pygments in /opt/anaconda3/lib/python3.8/site-packages (from ipython<8.0.0,>=7.22.0->datawrapper) (2.6.1)\n",
      "Requirement already satisfied: backcall in /opt/anaconda3/lib/python3.8/site-packages (from ipython<8.0.0,>=7.22.0->datawrapper) (0.2.0)\n",
      "Requirement already satisfied: pickleshare in /opt/anaconda3/lib/python3.8/site-packages (from ipython<8.0.0,>=7.22.0->datawrapper) (0.7.5)\n",
      "Requirement already satisfied: pytz>=2017.3 in /opt/anaconda3/lib/python3.8/site-packages (from pandas<2.0.0,>=1.2.3->datawrapper) (2020.1)\n",
      "Requirement already satisfied: numpy>=1.17.3; platform_machine != \"aarch64\" and platform_machine != \"arm64\" and python_version < \"3.10\" in /opt/anaconda3/lib/python3.8/site-packages (from pandas<2.0.0,>=1.2.3->datawrapper) (1.18.5)\n",
      "Requirement already satisfied: python-dateutil>=2.7.3 in /opt/anaconda3/lib/python3.8/site-packages (from pandas<2.0.0,>=1.2.3->datawrapper) (2.8.1)\n",
      "Collecting charset-normalizer~=2.0.0; python_version >= \"3\"\n",
      "  Downloading charset_normalizer-2.0.9-py3-none-any.whl (39 kB)\n",
      "Requirement already satisfied: certifi>=2017.4.17 in /opt/anaconda3/lib/python3.8/site-packages (from requests<3.0.0,>=2.25.1->datawrapper) (2020.6.20)\n",
      "Requirement already satisfied: idna<4,>=2.5; python_version >= \"3\" in /opt/anaconda3/lib/python3.8/site-packages (from requests<3.0.0,>=2.25.1->datawrapper) (2.10)\n",
      "Requirement already satisfied: urllib3<1.27,>=1.21.1 in /opt/anaconda3/lib/python3.8/site-packages (from requests<3.0.0,>=2.25.1->datawrapper) (1.25.9)\n",
      "Requirement already satisfied: colorama<0.5.0,>=0.4.0 in /opt/anaconda3/lib/python3.8/site-packages (from rich<11.0.0,>=9.8.2->datawrapper) (0.4.3)\n",
      "Requirement already satisfied: commonmark<0.10.0,>=0.9.0 in /opt/anaconda3/lib/python3.8/site-packages (from rich<11.0.0,>=9.8.2->datawrapper) (0.9.1)\n",
      "Requirement already satisfied: ipython-genutils in /opt/anaconda3/lib/python3.8/site-packages (from traitlets>=4.2->ipython<8.0.0,>=7.22.0->datawrapper) (0.2.0)\n",
      "Requirement already satisfied: six in /opt/anaconda3/lib/python3.8/site-packages (from traitlets>=4.2->ipython<8.0.0,>=7.22.0->datawrapper) (1.15.0)\n",
      "Requirement already satisfied: parso<0.8.0,>=0.7.0 in /opt/anaconda3/lib/python3.8/site-packages (from jedi>=0.16->ipython<8.0.0,>=7.22.0->datawrapper) (0.7.0)\n",
      "Requirement already satisfied: wcwidth in /opt/anaconda3/lib/python3.8/site-packages (from prompt-toolkit!=3.0.0,!=3.0.1,<3.1.0,>=2.0.0->ipython<8.0.0,>=7.22.0->datawrapper) (0.2.5)\n",
      "Requirement already satisfied: ptyprocess>=0.5 in /opt/anaconda3/lib/python3.8/site-packages (from pexpect>4.3; sys_platform != \"win32\"->ipython<8.0.0,>=7.22.0->datawrapper) (0.6.0)\n",
      "\u001b[31mERROR: spyder 4.1.4 requires pyqt5<5.13; python_version >= \"3\", which is not installed.\u001b[0m\n",
      "\u001b[31mERROR: spyder 4.1.4 requires pyqtwebengine<5.13; python_version >= \"3\", which is not installed.\u001b[0m\n",
      "Installing collected packages: matplotlib-inline, ipython, pandas, charset-normalizer, requests, datawrapper\n",
      "  Attempting uninstall: ipython\n",
      "    Found existing installation: ipython 7.16.1\n",
      "    Uninstalling ipython-7.16.1:\n",
      "      Successfully uninstalled ipython-7.16.1\n",
      "  Attempting uninstall: pandas\n",
      "    Found existing installation: pandas 1.0.5\n",
      "    Uninstalling pandas-1.0.5:\n",
      "      Successfully uninstalled pandas-1.0.5\n",
      "  Attempting uninstall: requests\n",
      "    Found existing installation: requests 2.24.0\n",
      "    Uninstalling requests-2.24.0:\n",
      "      Successfully uninstalled requests-2.24.0\n",
      "Successfully installed charset-normalizer-2.0.9 datawrapper-0.4.6 ipython-7.30.1 matplotlib-inline-0.1.3 pandas-1.3.5 requests-2.26.0\n",
      "Note: you may need to restart the kernel to use updated packages.\n"
     ]
    }
   ],
   "source": [
    "pip install datawrapper"
   ]
  },
  {
   "cell_type": "code",
   "execution_count": 14,
   "metadata": {},
   "outputs": [],
   "source": [
    "from dotenv import load_dotenv"
   ]
  },
  {
   "cell_type": "code",
   "execution_count": 15,
   "metadata": {},
   "outputs": [],
   "source": [
    "import os"
   ]
  },
  {
   "cell_type": "code",
   "execution_count": 16,
   "metadata": {},
   "outputs": [
    {
     "data": {
      "text/plain": [
       "True"
      ]
     },
     "execution_count": 16,
     "metadata": {},
     "output_type": "execute_result"
    }
   ],
   "source": [
    "load_dotenv()"
   ]
  },
  {
   "cell_type": "code",
   "execution_count": 17,
   "metadata": {},
   "outputs": [],
   "source": [
    "from datawrapper import Datawrapper\n",
    "dw = Datawrapper(access_token = os.getenv(\"DATAWRAPPER_ACCESS_TOKEN\"))"
   ]
  },
  {
   "cell_type": "code",
   "execution_count": 18,
   "metadata": {},
   "outputs": [],
   "source": [
    "import pandas as pd"
   ]
  },
  {
   "cell_type": "code",
   "execution_count": 19,
   "metadata": {},
   "outputs": [],
   "source": [
    "data = pd.read_csv(\"https://raw.githubusercontent.com/chekos/datawrapper-blog-post/master/notebooks/clean_data.csv\")"
   ]
  },
  {
   "cell_type": "code",
   "execution_count": 5,
   "metadata": {},
   "outputs": [],
   "source": [
    "dw_data = data.pivot_table(columns = ['edu-three-cat'], index = 'year', values = 'perwt', aggfunc='sum')"
   ]
  },
  {
   "cell_type": "code",
   "execution_count": 6,
   "metadata": {},
   "outputs": [],
   "source": [
    "dw_data = dw_data.apply(lambda x: x*100 / x.sum(), axis = 1)"
   ]
  },
  {
   "cell_type": "code",
   "execution_count": 7,
   "metadata": {},
   "outputs": [],
   "source": [
    "dw_data.reset_index(inplace = True)"
   ]
  },
  {
   "cell_type": "code",
   "execution_count": 8,
   "metadata": {},
   "outputs": [
    {
     "data": {
      "text/html": [
       "<div>\n",
       "<style scoped>\n",
       "    .dataframe tbody tr th:only-of-type {\n",
       "        vertical-align: middle;\n",
       "    }\n",
       "\n",
       "    .dataframe tbody tr th {\n",
       "        vertical-align: top;\n",
       "    }\n",
       "\n",
       "    .dataframe thead th {\n",
       "        text-align: right;\n",
       "    }\n",
       "</style>\n",
       "<table border=\"1\" class=\"dataframe\">\n",
       "  <thead>\n",
       "    <tr style=\"text-align: right;\">\n",
       "      <th>edu-three-cat</th>\n",
       "      <th>year</th>\n",
       "      <th>Advanced degree</th>\n",
       "      <th>Bachelor's degree</th>\n",
       "      <th>High school or less</th>\n",
       "    </tr>\n",
       "  </thead>\n",
       "  <tbody>\n",
       "    <tr>\n",
       "      <th>0</th>\n",
       "      <td>2007</td>\n",
       "      <td>13.490163</td>\n",
       "      <td>24.928126</td>\n",
       "      <td>61.581711</td>\n",
       "    </tr>\n",
       "    <tr>\n",
       "      <th>1</th>\n",
       "      <td>2008</td>\n",
       "      <td>14.776653</td>\n",
       "      <td>25.320222</td>\n",
       "      <td>59.903125</td>\n",
       "    </tr>\n",
       "    <tr>\n",
       "      <th>2</th>\n",
       "      <td>2009</td>\n",
       "      <td>15.518236</td>\n",
       "      <td>26.250654</td>\n",
       "      <td>58.231110</td>\n",
       "    </tr>\n",
       "    <tr>\n",
       "      <th>3</th>\n",
       "      <td>2010</td>\n",
       "      <td>16.913406</td>\n",
       "      <td>28.054425</td>\n",
       "      <td>55.032170</td>\n",
       "    </tr>\n",
       "    <tr>\n",
       "      <th>4</th>\n",
       "      <td>2011</td>\n",
       "      <td>18.469359</td>\n",
       "      <td>30.242334</td>\n",
       "      <td>51.288307</td>\n",
       "    </tr>\n",
       "    <tr>\n",
       "      <th>5</th>\n",
       "      <td>2012</td>\n",
       "      <td>21.734189</td>\n",
       "      <td>30.274753</td>\n",
       "      <td>47.991059</td>\n",
       "    </tr>\n",
       "    <tr>\n",
       "      <th>6</th>\n",
       "      <td>2013</td>\n",
       "      <td>22.547075</td>\n",
       "      <td>32.294701</td>\n",
       "      <td>45.158224</td>\n",
       "    </tr>\n",
       "    <tr>\n",
       "      <th>7</th>\n",
       "      <td>2014</td>\n",
       "      <td>25.057221</td>\n",
       "      <td>34.664167</td>\n",
       "      <td>40.278613</td>\n",
       "    </tr>\n",
       "    <tr>\n",
       "      <th>8</th>\n",
       "      <td>2015</td>\n",
       "      <td>27.994444</td>\n",
       "      <td>36.217279</td>\n",
       "      <td>35.788277</td>\n",
       "    </tr>\n",
       "    <tr>\n",
       "      <th>9</th>\n",
       "      <td>2016</td>\n",
       "      <td>27.532335</td>\n",
       "      <td>36.288458</td>\n",
       "      <td>36.179207</td>\n",
       "    </tr>\n",
       "    <tr>\n",
       "      <th>10</th>\n",
       "      <td>2017</td>\n",
       "      <td>27.657078</td>\n",
       "      <td>36.409391</td>\n",
       "      <td>35.933530</td>\n",
       "    </tr>\n",
       "    <tr>\n",
       "      <th>11</th>\n",
       "      <td>2018</td>\n",
       "      <td>30.181824</td>\n",
       "      <td>33.659499</td>\n",
       "      <td>36.158677</td>\n",
       "    </tr>\n",
       "  </tbody>\n",
       "</table>\n",
       "</div>"
      ],
      "text/plain": [
       "edu-three-cat  year  Advanced degree  Bachelor's degree  High school or less\n",
       "0              2007        13.490163          24.928126            61.581711\n",
       "1              2008        14.776653          25.320222            59.903125\n",
       "2              2009        15.518236          26.250654            58.231110\n",
       "3              2010        16.913406          28.054425            55.032170\n",
       "4              2011        18.469359          30.242334            51.288307\n",
       "5              2012        21.734189          30.274753            47.991059\n",
       "6              2013        22.547075          32.294701            45.158224\n",
       "7              2014        25.057221          34.664167            40.278613\n",
       "8              2015        27.994444          36.217279            35.788277\n",
       "9              2016        27.532335          36.288458            36.179207\n",
       "10             2017        27.657078          36.409391            35.933530\n",
       "11             2018        30.181824          33.659499            36.158677"
      ]
     },
     "execution_count": 8,
     "metadata": {},
     "output_type": "execute_result"
    }
   ],
   "source": [
    "dw_data"
   ]
  },
  {
   "cell_type": "code",
   "execution_count": 9,
   "metadata": {},
   "outputs": [
    {
     "name": "stdout",
     "output_type": "stream",
     "text": [
      "New chart d3-bars-stacked created!\n"
     ]
    }
   ],
   "source": [
    "california_chart = dw.create_chart(title = \"California's Recently Arrived Immigrants\", \n",
    "chart_type = 'd3-bars-stacked', data = dw_data)"
   ]
  },
  {
   "cell_type": "code",
   "execution_count": 10,
   "metadata": {},
   "outputs": [
    {
     "data": {
      "text/plain": [
       "{'publicId': 'eJpLy',\n",
       " 'language': 'en-US',\n",
       " 'theme': 'datawrapper-data',\n",
       " 'title': \"California's Recently Arrived Immigrants\",\n",
       " 'type': 'd3-bars-stacked',\n",
       " 'metadata': {'data': {},\n",
       "  'describe': {'source-name': '',\n",
       "   'source-url': '',\n",
       "   'intro': '',\n",
       "   'byline': '',\n",
       "   'aria-description': ''},\n",
       "  'visualize': {},\n",
       "  'publish': {'blocks': {'logo': {'enabled': False},\n",
       "    'embed': False,\n",
       "    'download-pdf': False,\n",
       "    'download-svg': False,\n",
       "    'get-the-data': True,\n",
       "    'download-image': False}}},\n",
       " 'authorId': 27625,\n",
       " 'id': 'eJpLy',\n",
       " 'lastModifiedAt': '2021-12-16T12:52:50.136Z',\n",
       " 'createdAt': '2021-12-16T12:52:50.128Z',\n",
       " 'organizationId': 'diplohack',\n",
       " 'url': '/v3/charts/eJpLy'}"
      ]
     },
     "execution_count": 10,
     "metadata": {},
     "output_type": "execute_result"
    }
   ],
   "source": [
    "california_chart"
   ]
  },
  {
   "cell_type": "code",
   "execution_count": 11,
   "metadata": {},
   "outputs": [
    {
     "name": "stdout",
     "output_type": "stream",
     "text": [
      "Chart updated!\n"
     ]
    }
   ],
   "source": [
    "dw.update_description(\n",
    " california_chart['id'],\n",
    " source_name = 'IPUMS',\n",
    " source_url = 'https://ipums.org',\n",
    " byline = 'Anastasia Valeeva',\n",
    ")"
   ]
  },
  {
   "cell_type": "code",
   "execution_count": 12,
   "metadata": {},
   "outputs": [
    {
     "name": "stdout",
     "output_type": "stream",
     "text": [
      "Chart's metadata updated!\n"
     ]
    }
   ],
   "source": [
    "properties = {\n",
    " 'visualize' : {\n",
    "     'thick': True,\n",
    "     'custom-colors': {\n",
    "         'Advanced degree': '#15607a',\n",
    "         \"Bachelor's degree\": '#1d81a2',\n",
    "         'High school or less': '#dadada'\n",
    "     },\n",
    "    }\n",
    "}\n",
    "dw.update_metadata(california_chart['id'], properties)"
   ]
  },
  {
   "cell_type": "code",
   "execution_count": 13,
   "metadata": {},
   "outputs": [
    {
     "name": "stderr",
     "output_type": "stream",
     "text": [
      "/opt/anaconda3/lib/python3.8/site-packages/IPython/core/display.py:724: UserWarning: Consider using IPython.display.IFrame instead\n",
      "  warnings.warn(\"Consider using IPython.display.IFrame instead\")\n"
     ]
    },
    {
     "data": {
      "text/html": [
       "<iframe title=\"California's Recently Arrived Immigrants\" aria-label=\"Stacked Bars\" id=\"datawrapper-chart-eJpLy\" src=\"https://datawrapper.dwcdn.net/eJpLy/1/\" scrolling=\"no\" frameborder=\"0\" style=\"border: none;\" width=\"undefined\" height=\"undefined\"></iframe>"
      ],
      "text/plain": [
       "<IPython.core.display.HTML object>"
      ]
     },
     "execution_count": 13,
     "metadata": {},
     "output_type": "execute_result"
    }
   ],
   "source": [
    "dw.publish_chart(california_chart['id'])"
   ]
  },
  {
   "cell_type": "code",
   "execution_count": 17,
   "metadata": {},
   "outputs": [
    {
     "data": {
      "text/plain": [
       "{'status': 'ok',\n",
       " 'data': [{'type': 'user', 'id': 27625, 'charts': 164, 'folders': []},\n",
       "  {'type': 'team',\n",
       "   'id': 'diplohack',\n",
       "   'name': 'Diplohack',\n",
       "   'charts': 455,\n",
       "   'folders': [{'id': 909,\n",
       "     'name': 'Child Poverty',\n",
       "     'charts': 6,\n",
       "     'folders': []},\n",
       "    {'id': 2663, 'name': 'Zelenka', 'charts': 1, 'folders': []},\n",
       "    {'id': 2812, 'name': 'Diplohack', 'charts': 1, 'folders': []},\n",
       "    {'id': 4028, 'name': \"Savia's charts\", 'charts': 209, 'folders': []},\n",
       "    {'id': 4274, 'name': 'aya', 'charts': 29, 'folders': []},\n",
       "    {'id': 17676, 'name': 'Infografika.school', 'charts': 9, 'folders': []},\n",
       "    {'id': 17719, 'name': \"Clara's charts\", 'charts': 4, 'folders': []},\n",
       "    {'id': 85306, 'name': 'Refugees', 'charts': 0, 'folders': []}]}]}"
      ]
     },
     "execution_count": 17,
     "metadata": {},
     "output_type": "execute_result"
    }
   ],
   "source": [
    "dw.get_folders()"
   ]
  },
  {
   "cell_type": "code",
   "execution_count": 16,
   "metadata": {},
   "outputs": [
    {
     "data": {
      "text/plain": [
       "array(['Los Angeles', 'San Joaquin', 'Riverside', 'Santa Barbara',\n",
       "       'San Diego', 'Santa Clara', 'San Mateo', 'San Francisco',\n",
       "       'Contra Costa', 'Orange', 'Alameda', 'Santa Cruz', 'Merced',\n",
       "       'San Bernardino', 'Fresno', 'Butte', 'Kern', 'Imperial', 'Solano',\n",
       "       'Placer', 'Ventura', 'Stanislaus', 'Tulare', nan, 'Sacramento',\n",
       "       'Sonoma', 'Marin', 'Kings', 'Yolo', 'El Dorado', 'Napa',\n",
       "       'San Luis Obispo', 'Madera', 'Humboldt', 'Shasta'], dtype=object)"
      ]
     },
     "execution_count": 16,
     "metadata": {},
     "output_type": "execute_result"
    }
   ],
   "source": [
    "data['county'].unique()"
   ]
  },
  {
   "cell_type": "code",
   "execution_count": 18,
   "metadata": {},
   "outputs": [
    {
     "name": "stdout",
     "output_type": "stream",
     "text": [
      "New chart d3-bars-stacked created!\n",
      "Chart updated!\n",
      "Chart's metadata updated!\n",
      "New chart d3-bars-stacked created!\n",
      "Chart updated!\n",
      "Chart's metadata updated!\n",
      "New chart d3-bars-stacked created!\n",
      "Chart updated!\n",
      "Chart's metadata updated!\n",
      "New chart d3-bars-stacked created!\n",
      "Chart updated!\n",
      "Chart's metadata updated!\n",
      "New chart d3-bars-stacked created!\n",
      "Chart updated!\n",
      "Chart's metadata updated!\n",
      "New chart d3-bars-stacked created!\n",
      "Chart updated!\n",
      "Chart's metadata updated!\n",
      "New chart d3-bars-stacked created!\n",
      "Chart updated!\n",
      "Chart's metadata updated!\n",
      "New chart d3-bars-stacked created!\n",
      "Chart updated!\n",
      "Chart's metadata updated!\n",
      "New chart d3-bars-stacked created!\n",
      "Chart updated!\n",
      "Chart's metadata updated!\n",
      "New chart d3-bars-stacked created!\n",
      "Chart updated!\n",
      "Chart's metadata updated!\n",
      "New chart d3-bars-stacked created!\n",
      "Chart updated!\n",
      "Chart's metadata updated!\n",
      "New chart d3-bars-stacked created!\n",
      "Chart updated!\n",
      "Chart's metadata updated!\n",
      "New chart d3-bars-stacked created!\n",
      "Chart updated!\n",
      "Chart's metadata updated!\n",
      "New chart d3-bars-stacked created!\n",
      "Chart updated!\n",
      "Chart's metadata updated!\n",
      "New chart d3-bars-stacked created!\n",
      "Chart updated!\n",
      "Chart's metadata updated!\n",
      "New chart d3-bars-stacked created!\n",
      "Chart updated!\n",
      "Chart's metadata updated!\n",
      "New chart d3-bars-stacked created!\n",
      "Chart updated!\n",
      "Chart's metadata updated!\n",
      "New chart d3-bars-stacked created!\n",
      "Chart updated!\n",
      "Chart's metadata updated!\n",
      "New chart d3-bars-stacked created!\n",
      "Chart updated!\n",
      "Chart's metadata updated!\n",
      "New chart d3-bars-stacked created!\n",
      "Chart updated!\n",
      "Chart's metadata updated!\n",
      "New chart d3-bars-stacked created!\n",
      "Chart updated!\n",
      "Chart's metadata updated!\n",
      "New chart d3-bars-stacked created!\n",
      "Chart updated!\n",
      "Chart's metadata updated!\n",
      "New chart d3-bars-stacked created!\n",
      "Chart updated!\n",
      "Chart's metadata updated!\n",
      "New chart d3-bars-stacked created!\n",
      "Chart updated!\n",
      "Chart's metadata updated!\n",
      "Skipping! Null value.\n",
      "New chart d3-bars-stacked created!\n",
      "Chart updated!\n",
      "Chart's metadata updated!\n",
      "New chart d3-bars-stacked created!\n",
      "Chart updated!\n",
      "Chart's metadata updated!\n",
      "New chart d3-bars-stacked created!\n",
      "Chart updated!\n",
      "Chart's metadata updated!\n",
      "New chart d3-bars-stacked created!\n",
      "Chart updated!\n",
      "Chart's metadata updated!\n",
      "New chart d3-bars-stacked created!\n",
      "Chart updated!\n",
      "Chart's metadata updated!\n",
      "New chart d3-bars-stacked created!\n",
      "Chart updated!\n",
      "Chart's metadata updated!\n",
      "New chart d3-bars-stacked created!\n",
      "Chart updated!\n",
      "Chart's metadata updated!\n",
      "New chart d3-bars-stacked created!\n",
      "Chart updated!\n",
      "Chart's metadata updated!\n",
      "New chart d3-bars-stacked created!\n",
      "Chart updated!\n",
      "Chart's metadata updated!\n",
      "New chart d3-bars-stacked created!\n",
      "Chart updated!\n",
      "Chart's metadata updated!\n",
      "New chart d3-bars-stacked created!\n",
      "Chart updated!\n",
      "Chart's metadata updated!\n"
     ]
    }
   ],
   "source": [
    "properties = {\n",
    "    'visualize' : {\n",
    "        'thick': True,\n",
    "        'custom-colors': {\n",
    "            'Advanced degree': '#15607a',\n",
    "            \"Bachelor's degree\": '#1d81a2',\n",
    "            'High school or less': '#dadada'\n",
    "        },\n",
    "    }\n",
    "}\n",
    "# california \n",
    "dw_data = data.pivot_table(columns = 'edu-three-cat', index = 'year', values = 'perwt', aggfunc='sum')\n",
    "dw_data = dw_data.apply(lambda x: (x / x.sum()) * 100, axis = 1)\n",
    "dw_data.reset_index(inplace = True)\n",
    "california_chart = dw.create_chart(title = f\"California recently arrived immigrants\", chart_type = \"d3-bars-stacked\", data = dw_data, folder_id=85306)\n",
    "dw.update_description(\n",
    "    california_chart['id'],\n",
    "    source_name = 'IPUMS',\n",
    "    source_url = 'https://ipums.org/',\n",
    "    byline = 'Anastasia Valeeva',\n",
    ")\n",
    "dw.update_metadata(california_chart['id'], properties)\n",
    "dw.publish_chart(california_chart['id'], display = False) \n",
    "\n",
    "# For each county\n",
    "for county in data['county'].unique():\n",
    "    if pd.notna(county):\n",
    "    # prep data\n",
    "        mask_county = data['county'] == county\n",
    "        dw_data = data[mask_county].pivot_table(columns = 'edu-three-cat', index = 'year', values = 'perwt', aggfunc='sum')\n",
    "        dw_data = dw_data.apply(lambda x: (x / x.sum()) * 100, axis = 1)\n",
    "        dw_data.reset_index(inplace = True)\n",
    "        # publish chart\n",
    "        county_chart = dw.create_chart(title = f\"{county} recently arrived immigrants\", chart_type = \"d3-bars-stacked\", data = dw_data, folder_id=85306)\n",
    "        dw.update_description(\n",
    "            county_chart['id'],\n",
    "            source_name = 'IPUMS',\n",
    "            source_url = 'https://ipums.org/',\n",
    "            byline = 'Anastasia Valeeva',\n",
    "        )\n",
    "        dw.update_metadata(county_chart['id'], properties)\n",
    "        dw.publish_chart(county_chart['id'], display = False)\n",
    "    else:\n",
    "        print(\"Skipping! Null value.\")"
   ]
  },
  {
   "cell_type": "code",
   "execution_count": 71,
   "metadata": {},
   "outputs": [
    {
     "name": "stdout",
     "output_type": "stream",
     "text": [
      "File exported at images/GD5LJ.png\n",
      "File exported at images/Jc7Nz.png\n",
      "File exported at images/w1LpD.png\n",
      "File exported at images/lXOJM.png\n",
      "File exported at images/kZSqo.png\n",
      "File exported at images/rm5go.png\n",
      "File exported at images/vHTtt.png\n",
      "File exported at images/7tzOj.png\n",
      "File exported at images/BO3de.png\n",
      "File exported at images/nypLt.png\n",
      "File exported at images/S41PH.png\n",
      "File exported at images/Lp8Vf.png\n",
      "File exported at images/5qV4j.png\n",
      "File exported at images/L8gSC.png\n",
      "File exported at images/C6fix.png\n",
      "File exported at images/7zDwd.png\n",
      "File exported at images/3nEkw.png\n",
      "File exported at images/Q4LUk.png\n",
      "File exported at images/d2J2V.png\n",
      "File exported at images/n2NNE.png\n",
      "File exported at images/1KS2q.png\n",
      "File exported at images/2pQMn.png\n",
      "File exported at images/mO62F.png\n",
      "File exported at images/QyZYi.png\n",
      "File exported at images/GsqJq.png\n",
      "File exported at images/dpz5r.png\n",
      "File exported at images/fOBy2.png\n",
      "File exported at images/cMq4W.png\n",
      "File exported at images/ITNdX.png\n",
      "File exported at images/KSDf7.png\n",
      "File exported at images/kon8p.png\n",
      "File exported at images/RbcFe.png\n",
      "File exported at images/IH2xI.png\n",
      "File exported at images/ekf61.png\n",
      "File exported at images/hCNSK.png\n",
      "File exported at images/eJpLy.png\n",
      "File exported at images/MkzWw.png\n"
     ]
    }
   ],
   "source": [
    "for chart in dw.get_charts(search = \"recently arrived immigrants\", limit = 37):\n",
    "    filename = \"images/\"+str(chart['id'])+\".png\"\n",
    "    dw.export_chart(chart['id'], width= 400, filepath=filename, display=False)"
   ]
  },
  {
   "cell_type": "code",
   "execution_count": 3,
   "metadata": {},
   "outputs": [
    {
     "name": "stdout",
     "output_type": "stream",
     "text": [
      "Successfully deleted chart with id GD5LJ\n",
      "Successfully deleted chart with id Jc7Nz\n",
      "Successfully deleted chart with id w1LpD\n",
      "Successfully deleted chart with id lXOJM\n",
      "Successfully deleted chart with id kZSqo\n",
      "Successfully deleted chart with id rm5go\n",
      "Successfully deleted chart with id vHTtt\n",
      "Successfully deleted chart with id 7tzOj\n",
      "Successfully deleted chart with id BO3de\n",
      "Successfully deleted chart with id nypLt\n",
      "Successfully deleted chart with id S41PH\n",
      "Successfully deleted chart with id Lp8Vf\n",
      "Successfully deleted chart with id 5qV4j\n",
      "Successfully deleted chart with id L8gSC\n",
      "Successfully deleted chart with id C6fix\n",
      "Successfully deleted chart with id 7zDwd\n",
      "Successfully deleted chart with id 3nEkw\n",
      "Successfully deleted chart with id Q4LUk\n",
      "Successfully deleted chart with id d2J2V\n",
      "Successfully deleted chart with id n2NNE\n",
      "Successfully deleted chart with id 1KS2q\n",
      "Successfully deleted chart with id 2pQMn\n",
      "Successfully deleted chart with id mO62F\n",
      "Successfully deleted chart with id QyZYi\n",
      "Successfully deleted chart with id GsqJq\n",
      "Successfully deleted chart with id dpz5r\n",
      "Successfully deleted chart with id fOBy2\n",
      "Successfully deleted chart with id cMq4W\n",
      "Successfully deleted chart with id ITNdX\n",
      "Successfully deleted chart with id KSDf7\n",
      "Successfully deleted chart with id kon8p\n",
      "Successfully deleted chart with id RbcFe\n",
      "Successfully deleted chart with id IH2xI\n",
      "Successfully deleted chart with id ekf61\n",
      "Successfully deleted chart with id hCNSK\n"
     ]
    }
   ],
   "source": [
    "for chart in dw.get_charts(limit = 60):\n",
    "    if chart['title'][-27:] == \"recently arrived immigrants\":\n",
    "        dw.delete_chart(chart['id'])\n",
    "    else:\n",
    "        pass"
   ]
  },
  {
   "cell_type": "code",
   "execution_count": null,
   "metadata": {},
   "outputs": [],
   "source": []
  }
 ],
 "metadata": {
  "kernelspec": {
   "display_name": "Python 3",
   "language": "python",
   "name": "python3"
  },
  "language_info": {
   "codemirror_mode": {
    "name": "ipython",
    "version": 3
   },
   "file_extension": ".py",
   "mimetype": "text/x-python",
   "name": "python",
   "nbconvert_exporter": "python",
   "pygments_lexer": "ipython3",
   "version": "3.8.3"
  }
 },
 "nbformat": 4,
 "nbformat_minor": 4
}
