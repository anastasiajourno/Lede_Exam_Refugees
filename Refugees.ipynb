{
 "cells": [
  {
   "cell_type": "markdown",
   "metadata": {},
   "source": [
    "# Refugee resettlement in the USA `13 points`\n",
    "\n",
    "Source: https://www.refugeeresettlementdata.com/data.html\n",
    "\n",
    "As described in [Data Is Plural](https://www.data-is-plural.com/archive/2021-07-14-edition/)\n",
    "\n",
    "> Axel Dreher et al. have published person-level data on 2.5+ million refugees who arrived in the US between 1975 and 2008. The anonymized records, obtained from the National Archives and originally collected by the Office of Refugee Resettlement, indicate each refugee’s country and date of birth, marital and family status, education level and English proficiency, date of US arrival, US city of resettlement, and more. The researchers also combined these records with public reports from the Bureau of Population, Refugees, and Migration (DIP 2015.11.25) to create a geocoded dataset of annual resettlements by citizenship and destination city from 1975 to 2018.\n",
    "\n",
    "### Topis covered\n",
    "\n",
    "* Aggregating\n",
    "* Filtering\n",
    "* Unfriendly complexity in data\n",
    "* Exploratory visualization\n",
    "* FIPS codes\n",
    "* Mapping"
   ]
  },
  {
   "cell_type": "markdown",
   "metadata": {},
   "source": [
    "# Basic analysis `4 points`"
   ]
  },
  {
   "cell_type": "markdown",
   "metadata": {},
   "source": [
    "### Read in your data\n",
    "\n",
    "We'll be using the geocoded file, which comes as a `dta` file. A `.dta` file is technically an export from [STATA](https://www.stata.com/), which means you use `pd.read_stata` to bring it in – but otherwise it's the same as a CSV."
   ]
  },
  {
   "cell_type": "code",
   "execution_count": 1,
   "metadata": {},
   "outputs": [],
   "source": [
    "#IMPORT the libraries\n",
    "import pandas as pd"
   ]
  },
  {
   "cell_type": "code",
   "execution_count": 2,
   "metadata": {},
   "outputs": [],
   "source": [
    "#READ IN the data\n",
    "df = pd.read_stata(\"orr_prm_1975_2018_v1.dta\")"
   ]
  },
  {
   "cell_type": "code",
   "execution_count": 3,
   "metadata": {},
   "outputs": [
    {
     "name": "stdout",
     "output_type": "stream",
     "text": [
      "<class 'pandas.core.frame.DataFrame'>\n",
      "Int64Index: 140503 entries, 0 to 140502\n",
      "Data columns (total 18 columns):\n",
      " #   Column              Non-Null Count   Dtype   \n",
      "---  ------              --------------   -----   \n",
      " 0   city_id             140503 non-null  float64 \n",
      " 1   city_nat_id         140503 non-null  float32 \n",
      " 2   city_nat_year_id    140503 non-null  float32 \n",
      " 3   year                140503 non-null  int16   \n",
      " 4   citizenship_stable  140503 non-null  object  \n",
      " 5   refugees            140503 non-null  float32 \n",
      " 6   city                140503 non-null  object  \n",
      " 7   city_code           111762 non-null  float64 \n",
      " 8   county_fips         140503 non-null  object  \n",
      " 9   state_fips          140503 non-null  object  \n",
      " 10  fips                140503 non-null  object  \n",
      " 11  county10name        140503 non-null  object  \n",
      " 12  countyfp10          140503 non-null  object  \n",
      " 13  statefp10           140503 non-null  object  \n",
      " 14  geo_level           140503 non-null  category\n",
      " 15  longitude           140503 non-null  float64 \n",
      " 16  latitude            140503 non-null  float64 \n",
      " 17  id_merging          113948 non-null  float32 \n",
      "dtypes: category(1), float32(4), float64(4), int16(1), object(8)\n",
      "memory usage: 16.5+ MB\n"
     ]
    }
   ],
   "source": [
    "#OVERVIEW\n",
    "df.info()"
   ]
  },
  {
   "cell_type": "markdown",
   "metadata": {},
   "source": [
    "### What years does this dataset include?"
   ]
  },
  {
   "cell_type": "code",
   "execution_count": 4,
   "metadata": {},
   "outputs": [
    {
     "data": {
      "text/plain": [
       "array([1983, 1984, 1987, 1988, 1999, 2001, 2003, 2004, 2005, 2008, 1975,\n",
       "       1979, 1980, 1981, 1982, 1985, 1989, 2002, 1986, 1993, 1977, 1978,\n",
       "       1991, 1992, 1996, 1990, 1994, 1995, 1997, 1998, 2000, 2006, 2007,\n",
       "       2015, 2013, 2014, 1976, 2009, 2011, 2016, 2010, 2012, 2017, 2018],\n",
       "      dtype=int16)"
      ]
     },
     "execution_count": 4,
     "metadata": {},
     "output_type": "execute_result"
    }
   ],
   "source": [
    "#FIND unique values for 'year'\n",
    "df.year.unique()"
   ]
  },
  {
   "cell_type": "markdown",
   "metadata": {},
   "source": [
    "### According to this dataset, what are the top 5 countries for refugees resettled into the United States?"
   ]
  },
  {
   "cell_type": "code",
   "execution_count": 5,
   "metadata": {},
   "outputs": [
    {
     "data": {
      "text/plain": [
       "vietnam    32449\n",
       "ussr       16270\n",
       "iran        9596\n",
       "laos        9193\n",
       "iraq        7940\n",
       "Name: citizenship_stable, dtype: int64"
      ]
     },
     "execution_count": 5,
     "metadata": {},
     "output_type": "execute_result"
    }
   ],
   "source": [
    "#COUNT by citizenship, SORT in descending order and SHOW first 5 values\n",
    "df.citizenship_stable.value_counts().sort_values(ascending=False).head(5)"
   ]
  },
  {
   "cell_type": "markdown",
   "metadata": {},
   "source": [
    "ANSWER: Vietnam, USSR, Iran, Laos and Iraq are the top 5 countries for refugees resettlied into the United States"
   ]
  },
  {
   "cell_type": "markdown",
   "metadata": {},
   "source": [
    "### Why can't I use `.value_counts()` to tell me how many refugees came from each country?"
   ]
  },
  {
   "cell_type": "markdown",
   "metadata": {},
   "source": [
    "ANSWER: because the column 'refugees' can contain information of more than 1 person per row"
   ]
  },
  {
   "cell_type": "markdown",
   "metadata": {},
   "source": [
    "### What are the top 5 cities for resettling refugees?"
   ]
  },
  {
   "cell_type": "code",
   "execution_count": 6,
   "metadata": {},
   "outputs": [
    {
     "data": {
      "text/plain": [
       "Portland     916\n",
       "Chicago      756\n",
       "Houston      751\n",
       "Rochester    696\n",
       "             677\n",
       "Name: city, dtype: int64"
      ]
     },
     "execution_count": 6,
     "metadata": {},
     "output_type": "execute_result"
    }
   ],
   "source": [
    "df.city.value_counts().sort_values(ascending=False).head(5)"
   ]
  },
  {
   "cell_type": "markdown",
   "metadata": {},
   "source": [
    "### Surprise, you got tricked! You can't just use `city` to answer that question. Why?\n",
    "\n",
    "It will help if you try to look at all of the rows for the city of Brooklyn."
   ]
  },
  {
   "cell_type": "code",
   "execution_count": 7,
   "metadata": {},
   "outputs": [
    {
     "data": {
      "text/html": [
       "<div>\n",
       "<style scoped>\n",
       "    .dataframe tbody tr th:only-of-type {\n",
       "        vertical-align: middle;\n",
       "    }\n",
       "\n",
       "    .dataframe tbody tr th {\n",
       "        vertical-align: top;\n",
       "    }\n",
       "\n",
       "    .dataframe thead th {\n",
       "        text-align: right;\n",
       "    }\n",
       "</style>\n",
       "<table border=\"1\" class=\"dataframe\">\n",
       "  <thead>\n",
       "    <tr style=\"text-align: right;\">\n",
       "      <th></th>\n",
       "      <th>city_id</th>\n",
       "      <th>city_nat_id</th>\n",
       "      <th>city_nat_year_id</th>\n",
       "      <th>year</th>\n",
       "      <th>citizenship_stable</th>\n",
       "      <th>refugees</th>\n",
       "      <th>city</th>\n",
       "      <th>city_code</th>\n",
       "      <th>county_fips</th>\n",
       "      <th>state_fips</th>\n",
       "      <th>fips</th>\n",
       "      <th>county10name</th>\n",
       "      <th>countyfp10</th>\n",
       "      <th>statefp10</th>\n",
       "      <th>geo_level</th>\n",
       "      <th>longitude</th>\n",
       "      <th>latitude</th>\n",
       "      <th>id_merging</th>\n",
       "    </tr>\n",
       "  </thead>\n",
       "  <tbody>\n",
       "    <tr>\n",
       "      <th>56400</th>\n",
       "      <td>5139.0</td>\n",
       "      <td>16074.0</td>\n",
       "      <td>55809.0</td>\n",
       "      <td>1999</td>\n",
       "      <td>ethiopia</td>\n",
       "      <td>11.0</td>\n",
       "      <td>Brooklyn</td>\n",
       "      <td>7930.0</td>\n",
       "      <td>137</td>\n",
       "      <td>27</td>\n",
       "      <td>27137</td>\n",
       "      <td>St. Louis</td>\n",
       "      <td>137</td>\n",
       "      <td>27</td>\n",
       "      <td>city</td>\n",
       "      <td>-92.921021</td>\n",
       "      <td>47.439654</td>\n",
       "      <td>45388.0</td>\n",
       "    </tr>\n",
       "    <tr>\n",
       "      <th>56401</th>\n",
       "      <td>5139.0</td>\n",
       "      <td>16074.0</td>\n",
       "      <td>55810.0</td>\n",
       "      <td>2000</td>\n",
       "      <td>ethiopia</td>\n",
       "      <td>4.0</td>\n",
       "      <td>Brooklyn</td>\n",
       "      <td>7930.0</td>\n",
       "      <td>137</td>\n",
       "      <td>27</td>\n",
       "      <td>27137</td>\n",
       "      <td>St. Louis</td>\n",
       "      <td>137</td>\n",
       "      <td>27</td>\n",
       "      <td>city</td>\n",
       "      <td>-92.921021</td>\n",
       "      <td>47.439654</td>\n",
       "      <td>45389.0</td>\n",
       "    </tr>\n",
       "    <tr>\n",
       "      <th>56402</th>\n",
       "      <td>5139.0</td>\n",
       "      <td>16074.0</td>\n",
       "      <td>55811.0</td>\n",
       "      <td>2004</td>\n",
       "      <td>ethiopia</td>\n",
       "      <td>10.0</td>\n",
       "      <td>Brooklyn</td>\n",
       "      <td>7930.0</td>\n",
       "      <td>137</td>\n",
       "      <td>27</td>\n",
       "      <td>27137</td>\n",
       "      <td>St. Louis</td>\n",
       "      <td>137</td>\n",
       "      <td>27</td>\n",
       "      <td>city</td>\n",
       "      <td>-92.921021</td>\n",
       "      <td>47.439654</td>\n",
       "      <td>45390.0</td>\n",
       "    </tr>\n",
       "    <tr>\n",
       "      <th>56403</th>\n",
       "      <td>5139.0</td>\n",
       "      <td>16075.0</td>\n",
       "      <td>55812.0</td>\n",
       "      <td>1983</td>\n",
       "      <td>laos</td>\n",
       "      <td>7.0</td>\n",
       "      <td>Brooklyn</td>\n",
       "      <td>7930.0</td>\n",
       "      <td>137</td>\n",
       "      <td>27</td>\n",
       "      <td>27137</td>\n",
       "      <td>St. Louis</td>\n",
       "      <td>137</td>\n",
       "      <td>27</td>\n",
       "      <td>city</td>\n",
       "      <td>-92.921021</td>\n",
       "      <td>47.439654</td>\n",
       "      <td>45391.0</td>\n",
       "    </tr>\n",
       "    <tr>\n",
       "      <th>56404</th>\n",
       "      <td>5139.0</td>\n",
       "      <td>16075.0</td>\n",
       "      <td>55813.0</td>\n",
       "      <td>2005</td>\n",
       "      <td>laos</td>\n",
       "      <td>2.0</td>\n",
       "      <td>Brooklyn</td>\n",
       "      <td>7930.0</td>\n",
       "      <td>137</td>\n",
       "      <td>27</td>\n",
       "      <td>27137</td>\n",
       "      <td>St. Louis</td>\n",
       "      <td>137</td>\n",
       "      <td>27</td>\n",
       "      <td>city</td>\n",
       "      <td>-92.921021</td>\n",
       "      <td>47.439654</td>\n",
       "      <td>45392.0</td>\n",
       "    </tr>\n",
       "    <tr>\n",
       "      <th>...</th>\n",
       "      <td>...</td>\n",
       "      <td>...</td>\n",
       "      <td>...</td>\n",
       "      <td>...</td>\n",
       "      <td>...</td>\n",
       "      <td>...</td>\n",
       "      <td>...</td>\n",
       "      <td>...</td>\n",
       "      <td>...</td>\n",
       "      <td>...</td>\n",
       "      <td>...</td>\n",
       "      <td>...</td>\n",
       "      <td>...</td>\n",
       "      <td>...</td>\n",
       "      <td>...</td>\n",
       "      <td>...</td>\n",
       "      <td>...</td>\n",
       "      <td>...</td>\n",
       "    </tr>\n",
       "    <tr>\n",
       "      <th>137130</th>\n",
       "      <td>14857.0</td>\n",
       "      <td>44199.0</td>\n",
       "      <td>136177.0</td>\n",
       "      <td>1986</td>\n",
       "      <td>iran</td>\n",
       "      <td>1.0</td>\n",
       "      <td>Brooklyn</td>\n",
       "      <td>9210.0</td>\n",
       "      <td>021</td>\n",
       "      <td>25</td>\n",
       "      <td>25021</td>\n",
       "      <td>Norfolk</td>\n",
       "      <td>021</td>\n",
       "      <td>25</td>\n",
       "      <td>city</td>\n",
       "      <td>-71.110893</td>\n",
       "      <td>42.335499</td>\n",
       "      <td>111229.0</td>\n",
       "    </tr>\n",
       "    <tr>\n",
       "      <th>137131</th>\n",
       "      <td>14857.0</td>\n",
       "      <td>44200.0</td>\n",
       "      <td>136178.0</td>\n",
       "      <td>1988</td>\n",
       "      <td>ussr</td>\n",
       "      <td>5.0</td>\n",
       "      <td>Brooklyn</td>\n",
       "      <td>9210.0</td>\n",
       "      <td>021</td>\n",
       "      <td>25</td>\n",
       "      <td>25021</td>\n",
       "      <td>Norfolk</td>\n",
       "      <td>021</td>\n",
       "      <td>25</td>\n",
       "      <td>city</td>\n",
       "      <td>-71.110893</td>\n",
       "      <td>42.335499</td>\n",
       "      <td>111230.0</td>\n",
       "    </tr>\n",
       "    <tr>\n",
       "      <th>137132</th>\n",
       "      <td>14857.0</td>\n",
       "      <td>44201.0</td>\n",
       "      <td>136179.0</td>\n",
       "      <td>1978</td>\n",
       "      <td>vietnam</td>\n",
       "      <td>1.0</td>\n",
       "      <td>Brooklyn</td>\n",
       "      <td>9210.0</td>\n",
       "      <td>021</td>\n",
       "      <td>25</td>\n",
       "      <td>25021</td>\n",
       "      <td>Norfolk</td>\n",
       "      <td>021</td>\n",
       "      <td>25</td>\n",
       "      <td>city</td>\n",
       "      <td>-71.110893</td>\n",
       "      <td>42.335499</td>\n",
       "      <td>111231.0</td>\n",
       "    </tr>\n",
       "    <tr>\n",
       "      <th>137133</th>\n",
       "      <td>14857.0</td>\n",
       "      <td>44201.0</td>\n",
       "      <td>136180.0</td>\n",
       "      <td>1980</td>\n",
       "      <td>vietnam</td>\n",
       "      <td>1.0</td>\n",
       "      <td>Brooklyn</td>\n",
       "      <td>9210.0</td>\n",
       "      <td>021</td>\n",
       "      <td>25</td>\n",
       "      <td>25021</td>\n",
       "      <td>Norfolk</td>\n",
       "      <td>021</td>\n",
       "      <td>25</td>\n",
       "      <td>city</td>\n",
       "      <td>-71.110893</td>\n",
       "      <td>42.335499</td>\n",
       "      <td>111232.0</td>\n",
       "    </tr>\n",
       "    <tr>\n",
       "      <th>137134</th>\n",
       "      <td>14857.0</td>\n",
       "      <td>44201.0</td>\n",
       "      <td>136181.0</td>\n",
       "      <td>1981</td>\n",
       "      <td>vietnam</td>\n",
       "      <td>2.0</td>\n",
       "      <td>Brooklyn</td>\n",
       "      <td>9210.0</td>\n",
       "      <td>021</td>\n",
       "      <td>25</td>\n",
       "      <td>25021</td>\n",
       "      <td>Norfolk</td>\n",
       "      <td>021</td>\n",
       "      <td>25</td>\n",
       "      <td>city</td>\n",
       "      <td>-71.110893</td>\n",
       "      <td>42.335499</td>\n",
       "      <td>111233.0</td>\n",
       "    </tr>\n",
       "  </tbody>\n",
       "</table>\n",
       "<p>425 rows × 18 columns</p>\n",
       "</div>"
      ],
      "text/plain": [
       "        city_id  city_nat_id  city_nat_year_id  year citizenship_stable  \\\n",
       "56400    5139.0      16074.0           55809.0  1999           ethiopia   \n",
       "56401    5139.0      16074.0           55810.0  2000           ethiopia   \n",
       "56402    5139.0      16074.0           55811.0  2004           ethiopia   \n",
       "56403    5139.0      16075.0           55812.0  1983               laos   \n",
       "56404    5139.0      16075.0           55813.0  2005               laos   \n",
       "...         ...          ...               ...   ...                ...   \n",
       "137130  14857.0      44199.0          136177.0  1986               iran   \n",
       "137131  14857.0      44200.0          136178.0  1988               ussr   \n",
       "137132  14857.0      44201.0          136179.0  1978            vietnam   \n",
       "137133  14857.0      44201.0          136180.0  1980            vietnam   \n",
       "137134  14857.0      44201.0          136181.0  1981            vietnam   \n",
       "\n",
       "        refugees      city  city_code county_fips state_fips   fips  \\\n",
       "56400       11.0  Brooklyn     7930.0         137         27  27137   \n",
       "56401        4.0  Brooklyn     7930.0         137         27  27137   \n",
       "56402       10.0  Brooklyn     7930.0         137         27  27137   \n",
       "56403        7.0  Brooklyn     7930.0         137         27  27137   \n",
       "56404        2.0  Brooklyn     7930.0         137         27  27137   \n",
       "...          ...       ...        ...         ...        ...    ...   \n",
       "137130       1.0  Brooklyn     9210.0         021         25  25021   \n",
       "137131       5.0  Brooklyn     9210.0         021         25  25021   \n",
       "137132       1.0  Brooklyn     9210.0         021         25  25021   \n",
       "137133       1.0  Brooklyn     9210.0         021         25  25021   \n",
       "137134       2.0  Brooklyn     9210.0         021         25  25021   \n",
       "\n",
       "       county10name countyfp10 statefp10 geo_level  longitude   latitude  \\\n",
       "56400     St. Louis        137        27      city -92.921021  47.439654   \n",
       "56401     St. Louis        137        27      city -92.921021  47.439654   \n",
       "56402     St. Louis        137        27      city -92.921021  47.439654   \n",
       "56403     St. Louis        137        27      city -92.921021  47.439654   \n",
       "56404     St. Louis        137        27      city -92.921021  47.439654   \n",
       "...             ...        ...       ...       ...        ...        ...   \n",
       "137130      Norfolk        021        25      city -71.110893  42.335499   \n",
       "137131      Norfolk        021        25      city -71.110893  42.335499   \n",
       "137132      Norfolk        021        25      city -71.110893  42.335499   \n",
       "137133      Norfolk        021        25      city -71.110893  42.335499   \n",
       "137134      Norfolk        021        25      city -71.110893  42.335499   \n",
       "\n",
       "        id_merging  \n",
       "56400      45388.0  \n",
       "56401      45389.0  \n",
       "56402      45390.0  \n",
       "56403      45391.0  \n",
       "56404      45392.0  \n",
       "...            ...  \n",
       "137130    111229.0  \n",
       "137131    111230.0  \n",
       "137132    111231.0  \n",
       "137133    111232.0  \n",
       "137134    111233.0  \n",
       "\n",
       "[425 rows x 18 columns]"
      ]
     },
     "execution_count": 7,
     "metadata": {},
     "output_type": "execute_result"
    }
   ],
   "source": [
    "df.loc[df['city'] == 'Brooklyn']"
   ]
  },
  {
   "cell_type": "markdown",
   "metadata": {},
   "source": [
    "so there's more than one Brooklyn here, ok"
   ]
  },
  {
   "cell_type": "markdown",
   "metadata": {},
   "source": [
    "### What is the correct answer for the top 5 cities for resettling refugees?\n",
    "\n",
    "Spoiler: I recommend using both `city` *and* `city_id` every time you want to look at individual cities. Also: it might be the same answer, but the numbers will be a little different."
   ]
  },
  {
   "cell_type": "code",
   "execution_count": 8,
   "metadata": {},
   "outputs": [
    {
     "data": {
      "text/html": [
       "<div>\n",
       "<style scoped>\n",
       "    .dataframe tbody tr th:only-of-type {\n",
       "        vertical-align: middle;\n",
       "    }\n",
       "\n",
       "    .dataframe tbody tr th {\n",
       "        vertical-align: top;\n",
       "    }\n",
       "\n",
       "    .dataframe thead th {\n",
       "        text-align: right;\n",
       "    }\n",
       "</style>\n",
       "<table border=\"1\" class=\"dataframe\">\n",
       "  <thead>\n",
       "    <tr style=\"text-align: right;\">\n",
       "      <th></th>\n",
       "      <th>city</th>\n",
       "      <th>city_id</th>\n",
       "      <th>Time</th>\n",
       "    </tr>\n",
       "  </thead>\n",
       "  <tbody>\n",
       "    <tr>\n",
       "      <th>3885</th>\n",
       "      <td>Denver</td>\n",
       "      <td>2748.0</td>\n",
       "      <td>588</td>\n",
       "    </tr>\n",
       "    <tr>\n",
       "      <th>6626</th>\n",
       "      <td>Houston</td>\n",
       "      <td>4198.0</td>\n",
       "      <td>507</td>\n",
       "    </tr>\n",
       "    <tr>\n",
       "      <th>2881</th>\n",
       "      <td>Chicago</td>\n",
       "      <td>7094.0</td>\n",
       "      <td>500</td>\n",
       "    </tr>\n",
       "    <tr>\n",
       "      <th>10941</th>\n",
       "      <td>Phoenix</td>\n",
       "      <td>2367.0</td>\n",
       "      <td>459</td>\n",
       "    </tr>\n",
       "    <tr>\n",
       "      <th>3671</th>\n",
       "      <td>Dallas</td>\n",
       "      <td>3728.0</td>\n",
       "      <td>447</td>\n",
       "    </tr>\n",
       "  </tbody>\n",
       "</table>\n",
       "</div>"
      ],
      "text/plain": [
       "          city  city_id  Time\n",
       "3885    Denver   2748.0   588\n",
       "6626   Houston   4198.0   507\n",
       "2881   Chicago   7094.0   500\n",
       "10941  Phoenix   2367.0   459\n",
       "3671    Dallas   3728.0   447"
      ]
     },
     "execution_count": 8,
     "metadata": {},
     "output_type": "execute_result"
    }
   ],
   "source": [
    "#GROUPBY 2 columns at a time and SORT by the number of times both are used \n",
    "df.groupby([\"city\", \"city_id\"]).size().reset_index(name=\"Time\").sort_values(by=\"Time\", ascending=False).head(5)"
   ]
  },
  {
   "cell_type": "markdown",
   "metadata": {},
   "source": [
    "ANSWER: Denver, Houston, Chicago, Phoenix and Dallas are the top 5 cities for resettling refugees."
   ]
  },
  {
   "cell_type": "markdown",
   "metadata": {},
   "source": [
    "### Comparing cities\n",
    "\n",
    "Pick 3 cities in the United States - one on the east coast, one on the west coast, and one somewhere in between. What are the top 10 countries for refugees for each? Be sure to use `city_id`."
   ]
  },
  {
   "cell_type": "code",
   "execution_count": 9,
   "metadata": {},
   "outputs": [
    {
     "data": {
      "text/plain": [
       "array(['Thurston', 'Hampden', 'Suffolk', 'Essex', 'Barnstable',\n",
       "       'Nantucket'], dtype=object)"
      ]
     },
     "execution_count": 9,
     "metadata": {},
     "output_type": "execute_result"
    }
   ],
   "source": [
    "#PICKING Boston and SHOWING the unique counties \n",
    "df.loc[df['city'] == 'Boston'].county10name.unique()"
   ]
  },
  {
   "cell_type": "code",
   "execution_count": 10,
   "metadata": {},
   "outputs": [
    {
     "data": {
      "text/plain": [
       "array([14655., 14818., 14854., 14906., 14909., 14910., 14938., 15008.])"
      ]
     },
     "execution_count": 10,
     "metadata": {},
     "output_type": "execute_result"
    }
   ],
   "source": [
    "#ADDING 'Suffolk' and DISCOVERING there are still 8 city_ids here\n",
    "Boston = df[(df['city'] == 'Boston')&(df['county10name'] == 'Suffolk')]\n",
    "Boston.city_id.unique()"
   ]
  },
  {
   "cell_type": "code",
   "execution_count": 11,
   "metadata": {},
   "outputs": [
    {
     "data": {
      "text/plain": [
       "14938.0    289\n",
       "14909.0    103\n",
       "15008.0      3\n",
       "14818.0      3\n",
       "14906.0      1\n",
       "14910.0      1\n",
       "14854.0      1\n",
       "14655.0      1\n",
       "Name: city_id, dtype: int64"
      ]
     },
     "execution_count": 11,
     "metadata": {},
     "output_type": "execute_result"
    }
   ],
   "source": [
    "#SORT them from the largest to smallest\n",
    "Boston.city_id.value_counts().sort_values(ascending=False)"
   ]
  },
  {
   "cell_type": "code",
   "execution_count": 12,
   "metadata": {},
   "outputs": [],
   "source": [
    "#SELECT the city_id with the largest n of values\n",
    "Boston = df[(df['city_id'] == 14938)]"
   ]
  },
  {
   "cell_type": "code",
   "execution_count": 13,
   "metadata": {},
   "outputs": [
    {
     "data": {
      "text/plain": [
       "vietnam        30\n",
       "ussr           26\n",
       "ethiopia       20\n",
       "somalia        16\n",
       "afghanistan    13\n",
       "iran           13\n",
       "cambodia       13\n",
       "sudan          12\n",
       "iraq           12\n",
       "yugoslavia     12\n",
       "Name: citizenship_stable, dtype: int64"
      ]
     },
     "execution_count": 13,
     "metadata": {},
     "output_type": "execute_result"
    }
   ],
   "source": [
    "#CHECK the top 10 countries for refugees in Boston, Suffolk, 14938\n",
    "Boston.citizenship_stable.value_counts().sort_values(ascending=False).head(10)"
   ]
  },
  {
   "cell_type": "code",
   "execution_count": 14,
   "metadata": {},
   "outputs": [
    {
     "data": {
      "text/plain": [
       "7094.0    500\n",
       "7108.0    231\n",
       "7095.0      7\n",
       "Name: city_id, dtype: int64"
      ]
     },
     "execution_count": 14,
     "metadata": {},
     "output_type": "execute_result"
    }
   ],
   "source": [
    "#PICKING Chicago city in Cook county and looking for the number of values for each city_id\n",
    "Chicago = df[(df['city'] == 'Chicago')&(df['county10name'] == 'Cook')]\n",
    "Chicago.city_id.unique()\n",
    "Chicago.city_id.value_counts().sort_values(ascending=False)"
   ]
  },
  {
   "cell_type": "code",
   "execution_count": 15,
   "metadata": {},
   "outputs": [],
   "source": [
    "#SELECT the city_id with the largest n of values\n",
    "Chicago = df[(df['city_id'] == 7094)]"
   ]
  },
  {
   "cell_type": "code",
   "execution_count": 16,
   "metadata": {},
   "outputs": [
    {
     "data": {
      "text/plain": [
       "vietnam        32\n",
       "ussr           27\n",
       "ethiopia       26\n",
       "iraq           25\n",
       "iran           25\n",
       "cuba           23\n",
       "afghanistan    20\n",
       "somalia        19\n",
       "laos           18\n",
       "sudan          16\n",
       "Name: citizenship_stable, dtype: int64"
      ]
     },
     "execution_count": 16,
     "metadata": {},
     "output_type": "execute_result"
    }
   ],
   "source": [
    "#CHECK the top 10 countries for refugees in Chicago, Cook, 7094\n",
    "Chicago.citizenship_stable.value_counts().sort_values(ascending=False).head(10)"
   ]
  },
  {
   "cell_type": "code",
   "execution_count": 17,
   "metadata": {},
   "outputs": [
    {
     "data": {
      "text/plain": [
       "1609.0    356\n",
       "1613.0     86\n",
       "Name: city_id, dtype: int64"
      ]
     },
     "execution_count": 17,
     "metadata": {},
     "output_type": "execute_result"
    }
   ],
   "source": [
    "#PICKING LA in Cook county and looking for the number of values for each city_id\n",
    "LA = df[(df['city'] == 'Los Angeles')&(df['county10name'] == 'Los Angeles')]\n",
    "LA.city_id.unique()\n",
    "LA.city_id.value_counts().sort_values(ascending=False)"
   ]
  },
  {
   "cell_type": "code",
   "execution_count": 18,
   "metadata": {},
   "outputs": [],
   "source": [
    "#SELECT the city_id with the largest n of values\n",
    "LA = df[(df['city_id'] == 1609)]"
   ]
  },
  {
   "cell_type": "code",
   "execution_count": 19,
   "metadata": {},
   "outputs": [
    {
     "data": {
      "text/plain": [
       "vietnam        31\n",
       "ussr           28\n",
       "iran           26\n",
       "ethiopia       25\n",
       "cuba           24\n",
       "afghanistan    18\n",
       "cambodia       16\n",
       "iraq           16\n",
       "laos           16\n",
       "unknown        15\n",
       "Name: citizenship_stable, dtype: int64"
      ]
     },
     "execution_count": 19,
     "metadata": {},
     "output_type": "execute_result"
    }
   ],
   "source": [
    "#CHECK the top 10 countries for refugees in LA, LOs Angekes, 1609\n",
    "LA.citizenship_stable.value_counts().sort_values(ascending=False).head(10)"
   ]
  },
  {
   "cell_type": "markdown",
   "metadata": {},
   "source": [
    "### Where were refugees from Afghanistan resettled before 2000 as compared to after 2000?"
   ]
  },
  {
   "cell_type": "code",
   "execution_count": 20,
   "metadata": {},
   "outputs": [
    {
     "data": {
      "text/html": [
       "<div>\n",
       "<style scoped>\n",
       "    .dataframe tbody tr th:only-of-type {\n",
       "        vertical-align: middle;\n",
       "    }\n",
       "\n",
       "    .dataframe tbody tr th {\n",
       "        vertical-align: top;\n",
       "    }\n",
       "\n",
       "    .dataframe thead th {\n",
       "        text-align: right;\n",
       "    }\n",
       "</style>\n",
       "<table border=\"1\" class=\"dataframe\">\n",
       "  <thead>\n",
       "    <tr style=\"text-align: right;\">\n",
       "      <th></th>\n",
       "      <th>city</th>\n",
       "      <th>city_id</th>\n",
       "      <th>Time</th>\n",
       "    </tr>\n",
       "  </thead>\n",
       "  <tbody>\n",
       "    <tr>\n",
       "      <th>325</th>\n",
       "      <td>Hayward</td>\n",
       "      <td>820.0</td>\n",
       "      <td>16</td>\n",
       "    </tr>\n",
       "    <tr>\n",
       "      <th>16</th>\n",
       "      <td>Alameda</td>\n",
       "      <td>606.0</td>\n",
       "      <td>15</td>\n",
       "    </tr>\n",
       "    <tr>\n",
       "      <th>45</th>\n",
       "      <td>Atlanta</td>\n",
       "      <td>8168.0</td>\n",
       "      <td>15</td>\n",
       "    </tr>\n",
       "    <tr>\n",
       "      <th>252</th>\n",
       "      <td>Flushing</td>\n",
       "      <td>13615.0</td>\n",
       "      <td>15</td>\n",
       "    </tr>\n",
       "    <tr>\n",
       "      <th>645</th>\n",
       "      <td>San Diego</td>\n",
       "      <td>2046.0</td>\n",
       "      <td>15</td>\n",
       "    </tr>\n",
       "  </tbody>\n",
       "</table>\n",
       "</div>"
      ],
      "text/plain": [
       "          city  city_id  Time\n",
       "325    Hayward    820.0    16\n",
       "16     Alameda    606.0    15\n",
       "45     Atlanta   8168.0    15\n",
       "252   Flushing  13615.0    15\n",
       "645  San Diego   2046.0    15"
      ]
     },
     "execution_count": 20,
     "metadata": {},
     "output_type": "execute_result"
    }
   ],
   "source": [
    "#FILTER for the country of origin and years before 2000, then sorting by city and city id\n",
    "df_before = df[(df['citizenship_stable'] == 'afghanistan')&(df['year'] < 2000)]\n",
    "df_before.groupby([\"city\", \"city_id\"]).size().reset_index(name=\"Time\").sort_values(by=\"Time\", ascending=False).head(5)"
   ]
  },
  {
   "cell_type": "code",
   "execution_count": 21,
   "metadata": {},
   "outputs": [
    {
     "data": {
      "text/html": [
       "<div>\n",
       "<style scoped>\n",
       "    .dataframe tbody tr th:only-of-type {\n",
       "        vertical-align: middle;\n",
       "    }\n",
       "\n",
       "    .dataframe tbody tr th {\n",
       "        vertical-align: top;\n",
       "    }\n",
       "\n",
       "    .dataframe thead th {\n",
       "        text-align: right;\n",
       "    }\n",
       "</style>\n",
       "<table border=\"1\" class=\"dataframe\">\n",
       "  <thead>\n",
       "    <tr style=\"text-align: right;\">\n",
       "      <th></th>\n",
       "      <th>city</th>\n",
       "      <th>city_id</th>\n",
       "      <th>Time</th>\n",
       "    </tr>\n",
       "  </thead>\n",
       "  <tbody>\n",
       "    <tr>\n",
       "      <th>97</th>\n",
       "      <td>Charlottesville</td>\n",
       "      <td>10789.0</td>\n",
       "      <td>17</td>\n",
       "    </tr>\n",
       "    <tr>\n",
       "      <th>146</th>\n",
       "      <td>Denver</td>\n",
       "      <td>2748.0</td>\n",
       "      <td>13</td>\n",
       "    </tr>\n",
       "    <tr>\n",
       "      <th>441</th>\n",
       "      <td>Sacramento</td>\n",
       "      <td>956.0</td>\n",
       "      <td>12</td>\n",
       "    </tr>\n",
       "    <tr>\n",
       "      <th>29</th>\n",
       "      <td>Atlanta</td>\n",
       "      <td>8161.0</td>\n",
       "      <td>10</td>\n",
       "    </tr>\n",
       "    <tr>\n",
       "      <th>56</th>\n",
       "      <td>Boise</td>\n",
       "      <td>2203.0</td>\n",
       "      <td>10</td>\n",
       "    </tr>\n",
       "  </tbody>\n",
       "</table>\n",
       "</div>"
      ],
      "text/plain": [
       "                city  city_id  Time\n",
       "97   Charlottesville  10789.0    17\n",
       "146           Denver   2748.0    13\n",
       "441       Sacramento    956.0    12\n",
       "29           Atlanta   8161.0    10\n",
       "56             Boise   2203.0    10"
      ]
     },
     "execution_count": 21,
     "metadata": {},
     "output_type": "execute_result"
    }
   ],
   "source": [
    "#FILTER for the country of origin and years after 2000, then sorting by city and city id\n",
    "df_after = df[(df['citizenship_stable'] == 'afghanistan')&(df['year'] > 2000)]\n",
    "df_after.groupby([\"city\", \"city_id\"]).size().reset_index(name=\"Time\").sort_values(by=\"Time\", ascending=False).head(5)"
   ]
  },
  {
   "cell_type": "markdown",
   "metadata": {},
   "source": [
    "### Exploratory line charts `1 point`\n",
    "\n",
    "**Using line charts,** examine 3 different countries' patterns of entry into the US over the years. What do their entry trends look like over time?"
   ]
  },
  {
   "cell_type": "code",
   "execution_count": 25,
   "metadata": {},
   "outputs": [
    {
     "data": {
      "text/plain": [
       "<matplotlib.axes._subplots.AxesSubplot at 0x11b1bdbe0>"
      ]
     },
     "execution_count": 25,
     "metadata": {},
     "output_type": "execute_result"
    },
    {
     "data": {
      "image/png": "[encoded data removed]",
      "text/plain": [
       "<Figure size 432x288 with 1 Axes>"
      ]
     },
     "metadata": {
      "needs_background": "light"
     },
     "output_type": "display_data"
    }
   ],
   "source": [
    "#Afghanistan\n",
    "af = df.loc[df['citizenship_stable'] == 'afghanistan']\n",
    "af.plot.line(x='year', y='refugees')"
   ]
  },
  {
   "cell_type": "markdown",
   "metadata": {},
   "source": [
    "At first I was puzzled at this messy line chart, then I realized that each year had in fact many data entries and pandas is connecting them on a chart based on a city apparently. But still, we can see the general pattern. Three clear picks here: early 1980s, years just after 2000 and 2016 or so. I would link the first one with the Soviet-Afghan war, the second one to the 9/11 and the 'war on terror' and the thired one probably with the most recent so called migration crisis. "
   ]
  },
  {
   "cell_type": "code",
   "execution_count": 26,
   "metadata": {},
   "outputs": [
    {
     "data": {
      "text/plain": [
       "<matplotlib.axes._subplots.AxesSubplot at 0x11b219790>"
      ]
     },
     "execution_count": 26,
     "metadata": {},
     "output_type": "execute_result"
    },
    {
     "data": {
      "image/png": "[encoded data removed]",
      "text/plain": [
       "<Figure size 432x288 with 1 Axes>"
      ]
     },
     "metadata": {
      "needs_background": "light"
     },
     "output_type": "display_data"
    }
   ],
   "source": [
    "#Iraq\n",
    "iraq = df.loc[df['citizenship_stable'] == 'iraq']\n",
    "iraq.plot.line(x='year', y='refugees')"
   ]
  },
  {
   "cell_type": "markdown",
   "metadata": {},
   "source": [
    "The official dates of the Iraq war are from 2003 to 2011, while the refugees only could escape cloes to the end of this period (2007 - 2011)."
   ]
  },
  {
   "cell_type": "code",
   "execution_count": 27,
   "metadata": {},
   "outputs": [
    {
     "data": {
      "text/plain": [
       "<matplotlib.axes._subplots.AxesSubplot at 0x11b3185e0>"
      ]
     },
     "execution_count": 27,
     "metadata": {},
     "output_type": "execute_result"
    },
    {
     "data": {
      "image/png": "[encoded data removed]",
      "text/plain": [
       "<Figure size 432x288 with 1 Axes>"
      ]
     },
     "metadata": {
      "needs_background": "light"
     },
     "output_type": "display_data"
    }
   ],
   "source": [
    "#Vietnam\n",
    "vietnam = df.loc[df['citizenship_stable'] == 'vietnam']\n",
    "vietnam.plot.line(x='year', y='refugees')"
   ]
  },
  {
   "cell_type": "markdown",
   "metadata": {},
   "source": [
    "1980 was the year of the biggest intake of the refugees from Vietnam, I guess as a measure following the end of the war. The delay between the years of conflict and years of the refugees' intake looks interesting. Is it because of the bureaucracy and delayed migration policies' response?"
   ]
  },
  {
   "cell_type": "markdown",
   "metadata": {},
   "source": [
    "### DataWrapper charts with annotations `2 points`\n",
    "\n",
    "Using [DataWrapper](https://www.datawrapper.de/), make a line chart of one of the countries' refugees inflow over the years. **Use the annotation tool to note event(s) that caused an influx of refugees.**\n",
    "\n",
    "Link the chart in the cell below."
   ]
  },
  {
   "cell_type": "markdown",
   "metadata": {},
   "source": [
    "https://www.datawrapper.de/_/o6XfP/"
   ]
  },
  {
   "cell_type": "markdown",
   "metadata": {},
   "source": [
    "### What are the top seven states for refugee resettlement in the USA? `1 point`\n",
    "\n",
    "Trying to use a CSV of FIPS codes and state names never works out well, I recommend doing cleaning that up manually."
   ]
  },
  {
   "cell_type": "code",
   "execution_count": 30,
   "metadata": {},
   "outputs": [
    {
     "data": {
      "text/plain": [
       "06    21017\n",
       "36     9965\n",
       "48     7329\n",
       "17     6329\n",
       "12     6227\n",
       "42     5995\n",
       "25     5595\n",
       "Name: state_fips, dtype: int64"
      ]
     },
     "execution_count": 30,
     "metadata": {},
     "output_type": "execute_result"
    }
   ],
   "source": [
    "df.state_fips.value_counts().sort_values(ascending=False).head(7)"
   ]
  },
  {
   "cell_type": "markdown",
   "metadata": {},
   "source": [
    "Which gives us: California, New York, Texas, Illinois, Florida, Pennsylvania, Massachusetts"
   ]
  },
  {
   "cell_type": "markdown",
   "metadata": {},
   "source": [
    "### Mapping refugees, level 1 `2 point`\n",
    "\n",
    "Make a state-based choropleth of where refugees from a given country (your choice) have been resettled in the USA.\n",
    "\n",
    "Use the tool of your choice: DataWrapper, MapShaper, or QGIS."
   ]
  },
  {
   "cell_type": "markdown",
   "metadata": {},
   "source": [
    "https://www.datawrapper.de/_/W46LD/"
   ]
  },
  {
   "cell_type": "markdown",
   "metadata": {},
   "source": [
    "### Mapping refugees, level 2 `3 points`\n",
    "\n",
    "Make an animated map or a grid of maps of where refugees from a given country have been resettled in the USA.\n",
    "\n",
    "Use the tool of your choice: DataWrapper, MapShaper, or QGIS.\n",
    "\n",
    "> **Tip:** Depending on the tool you use, you might want either long or wide data. Using `.reset_index()` will give you long data, `.unstack()` will give you wide data."
   ]
  },
  {
   "cell_type": "markdown",
   "metadata": {},
   "source": [
    "https://anastasiavaleeva.com/refugees_gif_map\n",
    "\n",
    "I created this using datawrapper library for Python\n",
    "The full code is in a dedeicated notebook 'Refugees_gif_map' in the same folder"
   ]
  }
 ],
 "metadata": {
  "kernelspec": {
   "display_name": "Python 3",
   "language": "python",
   "name": "python3"
  },
  "language_info": {
   "codemirror_mode": {
    "name": "ipython",
    "version": 3
   },
   "file_extension": ".py",
   "mimetype": "text/x-python",
   "name": "python",
   "nbconvert_exporter": "python",
   "pygments_lexer": "ipython3",
   "version": "3.8.3"
  }
 },
 "nbformat": 4,
 "nbformat_minor": 4
}
